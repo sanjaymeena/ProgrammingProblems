{
 "cells": [
  {
   "cell_type": "markdown",
   "metadata": {},
   "source": [
    "``\n",
    "Task 2: Identifying words by frequency\n",
    "A bigram is sequence of two consecutive tokens. The previous sentence, for example, contains the\n",
    "bigrams: (a bigram), (bigram is), (is sequence), (sequence of), (of two), (two consecutive), and\n",
    "(consecutive tokens).\n",
    "Across the entire corpus find (1) the top 50 most frequent unigrams (single tokens), and (2) the top\n",
    "50 most frequent bigrams.\n",
    "The output should be a list of 100 lines, where the first 50 lines contain a single term each, in order\n",
    "of frequency, followed by 50 lines containing two terms each, in order of the bigram frequency.\n",
    "``"
   ]
  },
  {
   "cell_type": "code",
   "execution_count": 49,
   "metadata": {
    "collapsed": true
   },
   "outputs": [],
   "source": [
    "import collections\n",
    "import re\n",
    "import sys\n",
    "import glob\n",
    "import os\n"
   ]
  },
  {
   "cell_type": "code",
   "execution_count": 89,
   "metadata": {
    "collapsed": false
   },
   "outputs": [],
   "source": [
    "\n",
    "def tokenize(string):\n",
    "    \n",
    "    return re.findall(r'\\w+',string.lower())\n",
    "\n",
    "def count_ngrams(lines,min_length=1,max_length=2):\n",
    "    \n",
    "    \n",
    "    # list of consecutive elements from min_length to max_length\n",
    "    lengths=range(min_length,max_length+1)\n",
    "    \n",
    "    # dictionary of length as key and Counter as value\n",
    "    # [2: Counter(), 3:Counter(), 4:Counter]\n",
    "    ngrams={length: collections.Counter() for length in lengths}\n",
    "    \n",
    "    # create queue of max length maxlen\n",
    "    queue=collections.deque(maxlen=max_length)\n",
    "        \n",
    "    def add_queue():\n",
    "        current=tuple(queue)\n",
    "        for length in lengths:\n",
    "            if len(current)>= length:\n",
    "                ngrams[length][current[:length]] += 1\n",
    "                \n",
    "    # iterate over all the lines    \n",
    "    for line in lines:\n",
    "        for word in tokenize(line):\n",
    "            queue.append(word)\n",
    "            if len(queue)>= max_length:\n",
    "                # after every element over maxlength, queue pops the word from the front\n",
    "                add_queue()\n",
    "                \n",
    "    \n",
    "    while len(queue)> min_length:\n",
    "        queue.popleft()\n",
    "        add_queue()\n",
    "     \n",
    "    return ngrams\n",
    "\n",
    "def print_common_ngrams(ngrams,num=50):\n",
    "    \n",
    "    for n in sorted(ngrams):\n",
    "        for gram,count in ngrams[n].most_common(num):\n",
    "            string= \"{0} {1} \".format(' '.join(gram), count)\n",
    "            print string\n",
    "    "
   ]
  },
  {
   "cell_type": "code",
   "execution_count": 90,
   "metadata": {
    "collapsed": false
   },
   "outputs": [],
   "source": [
    "data_folder='./data/'\n",
    "\n",
    "#content_dict = {}\n",
    "\n",
    "total_content=[]\n",
    "for content in os.listdir(data_folder): # \".\" means current directory\n",
    "    filepath=data_folder+ content\n",
    "    lines=[]\n",
    "    with open(filepath) as f:\n",
    "        lines=f.readlines()\n",
    "    f.close()    \n",
    "    #print lines\n",
    "    #print content\n",
    "    #print len(lines)\n",
    "    for line in lines :\n",
    "        total_content.append(line)\n",
    "\n",
    "#len(total_content)"
   ]
  },
  {
   "cell_type": "code",
   "execution_count": 91,
   "metadata": {
    "collapsed": false
   },
   "outputs": [
    {
     "name": "stdout",
     "output_type": "stream",
     "text": [
      "total lines in the data are :   1712\n"
     ]
    }
   ],
   "source": [
    "\n",
    "min_length=1\n",
    "max_length=2\n",
    "\n",
    "print 'total lines in the data are :  ' , len(total_content)\n",
    "\n",
    "ngrams=count_ngrams(lines,min_length,max_length)"
   ]
  },
  {
   "cell_type": "code",
   "execution_count": 92,
   "metadata": {
    "collapsed": false
   },
   "outputs": [
    {
     "name": "stdout",
     "output_type": "stream",
     "text": [
      "the 186 \n",
      "of 75 \n",
      "in 61 \n",
      "perovskite 46 \n",
      "a 45 \n",
      "to 44 \n",
      "and 42 \n",
      "is 37 \n",
      "for 33 \n",
      "at 31 \n",
      "this 30 \n",
      "conversion 27 \n",
      "that 27 \n",
      "circuit 26 \n",
      "with 23 \n",
      "short 22 \n",
      "film 19 \n",
      "films 19 \n",
      "iodide 19 \n",
      "we 19 \n",
      "devices 18 \n",
      "as 17 \n",
      "are 17 \n",
      "lead 17 \n",
      "temperature 17 \n",
      "c 17 \n",
      "be 17 \n",
      "immersion 16 \n",
      "from 15 \n",
      "crystal 15 \n",
      "solar 14 \n",
      "cells 14 \n",
      "by 14 \n",
      "when 14 \n",
      "was 13 \n",
      "not 12 \n",
      "performance 12 \n",
      "layer 12 \n",
      "can 11 \n",
      "temperatures 11 \n",
      "figure 10 \n",
      "tio2 10 \n",
      "where 10 \n",
      "2 10 \n",
      "solution 10 \n",
      "on 10 \n",
      "higher 9 \n",
      "oriented 9 \n",
      "supplementary 9 \n",
      "photovoltaic 9 \n",
      "of the 26 \n",
      "in the 24 \n",
      "the perovskite 22 \n",
      "short circuit 21 \n",
      "lead iodide 17 \n",
      "solar cells 14 \n",
      "to the 11 \n",
      "can be 9 \n",
      "the conversion 9 \n",
      "the supplementary 9 \n",
      "60 c 8 \n",
      "crystal size 8 \n",
      "circuit currents 8 \n",
      "perovskite solar 8 \n",
      "perovskite film 7 \n",
      "that the 7 \n",
      "supplementary material 7 \n",
      "the substrate 7 \n",
      "in figure 7 \n",
      "when the 6 \n",
      "in a 6 \n",
      "perovskite crystal 6 \n",
      "circuit current 6 \n",
      "as the 6 \n",
      "perovskite films 6 \n",
      "photovoltaic performance 6 \n",
      "co workers 5 \n",
      "planar heterojunction 5 \n",
      "with the 5 \n",
      "open circuit 5 \n",
      "the highest 5 \n",
      "and the 5 \n",
      "here that 5 \n",
      "and co 5 \n",
      "shown in 5 \n",
      "power conversion 5 \n",
      "iodide layer 5 \n",
      "fully converted 5 \n",
      "perovskite crystals 5 \n",
      "deposition conversion 5 \n",
      "the films 5 \n",
      "in this 5 \n",
      "it is 5 \n",
      "for the 5 \n",
      "tio2 layer 4 \n",
      "conversion technique 4 \n",
      "on the 4 \n",
      "c the 4 \n",
      "we show 4 \n",
      "immersion temperature 4 \n",
      "None\n"
     ]
    }
   ],
   "source": [
    "print print_common_ngrams(ngrams,50)"
   ]
  },
  {
   "cell_type": "code",
   "execution_count": null,
   "metadata": {
    "collapsed": true
   },
   "outputs": [],
   "source": []
  },
  {
   "cell_type": "code",
   "execution_count": null,
   "metadata": {
    "collapsed": true
   },
   "outputs": [],
   "source": []
  }
 ],
 "metadata": {
  "kernelspec": {
   "display_name": "Python 2",
   "language": "python",
   "name": "python2"
  },
  "language_info": {
   "codemirror_mode": {
    "name": "ipython",
    "version": 2
   },
   "file_extension": ".py",
   "mimetype": "text/x-python",
   "name": "python",
   "nbconvert_exporter": "python",
   "pygments_lexer": "ipython2",
   "version": "2.7.11"
  }
 },
 "nbformat": 4,
 "nbformat_minor": 0
}
