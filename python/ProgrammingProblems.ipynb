{
 "cells": [
  {
   "cell_type": "markdown",
   "metadata": {},
   "source": [
    "<b>Coupon Collector Problem <br>\n",
    "Collecting Coupons: This is a famous problem in Mosteller's book.\n",
    "Coupons in cereal boxes are numbered 1 to 5, and a set of one of each is required for a prize. With one coupon per box, how many boxes on the average are required to make a complete set? </b>\n"
   ]
  },
  {
   "cell_type": "code",
   "execution_count": 1,
   "metadata": {},
   "outputs": [
    {
     "name": "stdout",
     "output_type": "stream",
     "text": [
      "12334\n",
      "avg number of boxes to make a complete set:  12.334\n"
     ]
    }
   ],
   "source": [
    "import random\n",
    "\n",
    "no_simulation=1000\n",
    "coupon_number_set=set()\n",
    "total_coupon_numbers=5\n",
    "flag=False\n",
    "boxes_no=0\n",
    "\n",
    "for i in range(no_simulation):\n",
    "    counter=0\n",
    "    coupon_number_set=set()\n",
    "    flag=False\n",
    "    \n",
    "    while not flag:\n",
    "        coupon=random.randint(1,total_coupon_numbers)\n",
    "        \n",
    "        counter+=1\n",
    "        if len(coupon_number_set)==total_coupon_numbers:\n",
    "            boxes_no+=counter\n",
    "            flag=True;\n",
    "            #print boxes_no\n",
    "            \n",
    "        else:\n",
    "            #print coupon_number_set\n",
    "            coupon_number_set.add(coupon)\n",
    "            \n",
    "print boxes_no            \n",
    "avg_boxes= (boxes_no * 1.0)/no_simulation\n",
    "print 'avg number of boxes to make a complete set: ', avg_boxes\n",
    "            \n",
    "            \n",
    "            \n",
    "        \n",
    "        \n",
    "        "
   ]
  },
  {
   "cell_type": "markdown",
   "metadata": {},
   "source": [
    "<b>Print most frequent N-grams in given file.\n",
    "\n",
    "Problem description: Build a tool which receives a corpus of text,\n",
    "analyses it and reports the top 10 most frequent bigrams, trigrams,\n",
    "four-grams (i.e. most frequently occurring two, three and four word\n",
    "consecutive combinations). </b>\n"
   ]
  },
  {
   "cell_type": "markdown",
   "metadata": {},
   "source": [
    "In terms of performance, solution is  O(N X M) where N is the number of words\n",
    "in the text, and M is the number of lengths of n-grams you're\n",
    "counting. In this case we're counting digrams, trigrams, and\n",
    "four-grams, so M is 3 and the running time is O(N * 3) = O(N), in\n",
    "other words, linear time."
   ]
  },
  {
   "cell_type": "code",
   "execution_count": 2,
   "metadata": {
    "collapsed": true
   },
   "outputs": [],
   "source": [
    "import collections\n",
    "import re\n",
    "import sys"
   ]
  },
  {
   "cell_type": "code",
   "execution_count": 3,
   "metadata": {},
   "outputs": [],
   "source": [
    "# file we use is available at  http://www.gutenberg.org/cache/epub/10/pg10.txt\n",
    "\n",
    "def tokenize(string):\n",
    "    \"split string to words and in lower case, ignoring punctuations and returning list of words\"\n",
    "    return re.findall(r'\\w+',string.lower())\n",
    "\n",
    "def count_ngrams(lines,min_length=2,max_length=4):\n",
    "    \"iterate through given line iterator and return n-gram frequencies.\"\n",
    "    \n",
    "    # list of consecutive elements from min_length to max_length\n",
    "    lengths=range(min_length,max_length+1)\n",
    "    \n",
    "    # dictionary of length as key and Counter as value\n",
    "    # [2: Counter(), 3:Counter(), 4:Counter]\n",
    "    ngrams={length: collections.Counter() for length in lengths}\n",
    "    \n",
    "    # create queue of max length maxlen\n",
    "    queue=collections.deque(maxlen=max_length)\n",
    "        \n",
    "    def add_queue():\n",
    "        current=tuple(queue)\n",
    "        for length in lengths:\n",
    "            if len(current)>= length:\n",
    "                ngrams[length][current[:length]] += 1\n",
    "                \n",
    "    # iterate over all the lines    \n",
    "    for line in lines:\n",
    "        for word in tokenize(line):\n",
    "            queue.append(word)\n",
    "            if len(queue)>= max_length:\n",
    "                # after every element over maxlength, queue pops the word from the front\n",
    "                add_queue()\n",
    "                \n",
    "    \n",
    "    while len(queue)> min_length:\n",
    "        queue.popleft()\n",
    "        add_queue()\n",
    "     \n",
    "    return ngrams\n",
    "\n",
    "def common_ngrams(ngrams,num=10):\n",
    "    \"print most common ngrams of size num\"\n",
    "  \n",
    "    for n in sorted(ngrams):\n",
    "        print '----- {} most common {} grams -----'.format(num,n)\n",
    "        for gram,count in ngrams[n].most_common(num):\n",
    "            print \"{0} {1} \".format(' '.join(gram), count)\n",
    "        print '\\n'"
   ]
  },
  {
   "cell_type": "code",
   "execution_count": 4,
   "metadata": {},
   "outputs": [],
   "source": [
    "# sample run \n",
    "# min_length=2\n",
    "# max_length=4\n",
    "# line=['i am samwise gamjee the king of good times']\n",
    "# print count_ngrams(line)\n",
    "\n",
    "        \n",
    "#print ngrams[2]\n",
    "#print ngrams[3]"
   ]
  },
  {
   "cell_type": "code",
   "execution_count": 5,
   "metadata": {},
   "outputs": [
    {
     "name": "stdout",
     "output_type": "stream",
     "text": [
      "total lines in the file:   100222\n"
     ]
    }
   ],
   "source": [
    "data_file='./data/pg10.txt'\n",
    "min_length=2\n",
    "max_length=4\n",
    "with open(data_file) as f:\n",
    "    lines=f.readlines()\n",
    "print 'total lines in the file:  ' , len(lines)\n",
    "\n",
    "ngrams=count_ngrams(lines,min_length,max_length)\n",
    "\n"
   ]
  },
  {
   "cell_type": "code",
   "execution_count": 6,
   "metadata": {},
   "outputs": [
    {
     "name": "stdout",
     "output_type": "stream",
     "text": [
      "total ngrams of size 2 :  177083\n",
      "total ngrams of size 3 :  480781\n",
      "total ngrams of size 4 :  682406\n",
      "\n",
      "\n",
      "----- 10 most common 2 grams -----\n",
      "of the 11572 \n",
      "the lord 7035 \n",
      "and the 6271 \n",
      "in the 5045 \n",
      "and he 2791 \n",
      "shall be 2462 \n",
      "to the 2168 \n",
      "all the 2146 \n",
      "and they 2086 \n",
      "unto the 2032 \n",
      "\n",
      "\n",
      "----- 10 most common 3 grams -----\n",
      "of the lord 1775 \n",
      "the son of 1450 \n",
      "the children of 1355 \n",
      "the house of 883 \n",
      "saith the lord 854 \n",
      "out of the 805 \n",
      "and i will 672 \n",
      "children of israel 647 \n",
      "the land of 617 \n",
      "and the lord 571 \n",
      "\n",
      "\n",
      "----- 10 most common 4 grams -----\n",
      "the children of israel 638 \n",
      "it came to pass 453 \n",
      "thus saith the lord 415 \n",
      "and it came to 396 \n",
      "of the children of 374 \n",
      "the lord thy god 304 \n",
      "the house of the 279 \n",
      "the word of the 266 \n",
      "word of the lord 258 \n",
      "saith the lord god 257 \n",
      "\n",
      "\n",
      "None\n"
     ]
    }
   ],
   "source": [
    "for i in range(min_length,max_length+1):\n",
    "    print  'total ngrams of size %d : ' %(i)  , len(ngrams[i])\n",
    "\n",
    "print '\\n'\n",
    "print common_ngrams(ngrams,10)\n"
   ]
  },
  {
   "cell_type": "code",
   "execution_count": null,
   "metadata": {
    "collapsed": true
   },
   "outputs": [],
   "source": []
  },
  {
   "cell_type": "code",
   "execution_count": null,
   "metadata": {
    "collapsed": true
   },
   "outputs": [],
   "source": []
  }
 ],
 "metadata": {
  "kernelspec": {
   "display_name": "Python 2",
   "language": "python",
   "name": "python2"
  },
  "language_info": {
   "codemirror_mode": {
    "name": "ipython",
    "version": 2
   },
   "file_extension": ".py",
   "mimetype": "text/x-python",
   "name": "python",
   "nbconvert_exporter": "python",
   "pygments_lexer": "ipython2",
   "version": "2.7.13"
  }
 },
 "nbformat": 4,
 "nbformat_minor": 1
}
